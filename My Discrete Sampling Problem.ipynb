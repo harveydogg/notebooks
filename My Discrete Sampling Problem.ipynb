{
 "cells": [
  {
   "cell_type": "code",
   "execution_count": 5,
   "id": "718b917d",
   "metadata": {},
   "outputs": [],
   "source": [
    "import math\n",
    "import pandas as pd\n",
    "import numpy as np"
   ]
  },
  {
   "cell_type": "markdown",
   "id": "95db9163",
   "metadata": {},
   "source": [
    "# Background\n",
    "\n",
    "Let us start with a concrete example. Suppose we have a jar containing 100 marbles: 25 reds and 75 blues. If we randomly select 10 marbles, what is the probability that exactly 5 will be blue?\n",
    "\n",
    "This is simply a counting problem: We count the number of ways of selecting 5 blues (from 75 blues) and 5 reds (from 25 reds), and divide this by the total number of ways of selecting 10 marbles (from 100 marbles).\n",
    "\n",
    "#### Formally:"
   ]
  },
  {
   "cell_type": "code",
   "execution_count": 58,
   "id": "88c67dcf",
   "metadata": {},
   "outputs": [
    {
     "data": {
      "text/plain": [
       "0.05297371447965936"
      ]
     },
     "execution_count": 58,
     "metadata": {},
     "output_type": "execute_result"
    }
   ],
   "source": [
    "math.comb(75, 5) * math.comb(25, 5) / math.comb(100, 10)"
   ]
  },
  {
   "cell_type": "markdown",
   "id": "ae8da9ce",
   "metadata": {},
   "source": [
    "comments re:\n",
    "ignoring of denominator\n",
    "for now, we just want to count\n",
    "ways of getting\n",
    "specific samples from specfic jars"
   ]
  },
  {
   "cell_type": "code",
   "execution_count": 63,
   "id": "07aba85f",
   "metadata": {},
   "outputs": [
    {
     "data": {
      "text/plain": [
       "916991390700"
      ]
     },
     "execution_count": 63,
     "metadata": {},
     "output_type": "execute_result"
    }
   ],
   "source": [
    "math.comb(75, 5) * math.comb(25, 5)"
   ]
  },
  {
   "cell_type": "code",
   "execution_count": 65,
   "id": "b433d507",
   "metadata": {},
   "outputs": [
    {
     "name": "stdout",
     "output_type": "stream",
     "text": [
      "916991390700\n"
     ]
    }
   ],
   "source": [
    "'''\n",
    "Given jar of N marbles containing B blues and R reds,\n",
    "number of ways to get sample with b blues and r reds:\n",
    "\n",
    "= [B choose b] * [R choose r]\n",
    "\n",
    "= [B choose b] * [(N - B) choose (s - b)]\n",
    "\n",
    "'''\n",
    "\n",
    "\n",
    "# Total marbles in jar.\n",
    "N = 100\n",
    "\n",
    "# Blues in jar\n",
    "B = 75\n",
    "\n",
    "# Sample size.\n",
    "s = 10\n",
    "\n",
    "# Sample blues\n",
    "b = 5\n",
    "\n",
    "\n",
    "\n",
    "def ways_to_get_sample(jar_size, jar_blues, sample_size, sample_blues):\n",
    "    return math.comb(jar_blues, sample_blues) * math.comb((jar_size - jar_blues), (sample_size - sample_blues))\n",
    "\n",
    "print(ways_to_get_sample(N, B, s, b))\n"
   ]
  },
  {
   "cell_type": "markdown",
   "id": "38547f97",
   "metadata": {},
   "source": [
    "Now think in opposite direction: given known N but unknown B,R we randomly sample and get b, r.\n",
    "\n",
    "Concrete example: Suppose we get 5 blues, 5 reds.\n",
    "\n",
    "Some questions we can ask:\n",
    "- "
   ]
  },
  {
   "cell_type": "code",
   "execution_count": 70,
   "id": "bcb62de4",
   "metadata": {},
   "outputs": [
    {
     "name": "stdout",
     "output_type": "stream",
     "text": [
      "0.028244247608721643\n"
     ]
    }
   ],
   "source": [
    "'''\n",
    "Given random sample of 5 blues, 5 reds from N = 100,\n",
    "our confidence that it came from the jar with B = 53:\n",
    "\n",
    "= (Ways to get sample-10 with 5 blues from jar-53) / (Ways to get sample-10 with 5 blues from ALL jars)\n",
    "\n",
    "Note the numerator is just our \"ways_to_get_sample\" function above.\n",
    "So, now we just need to define the denominator function --\n",
    "which won't have a \"jar_blues\" argument,\n",
    "since we're summing over all its possible values.\n",
    "\n",
    "'''\n",
    "# Total marbles in jar.\n",
    "N = 100\n",
    "\n",
    "# Blues in jar\n",
    "B = 50\n",
    "\n",
    "# Sample size.\n",
    "s = 10\n",
    "\n",
    "# Sample blues\n",
    "b = 5\n",
    "\n",
    "\n",
    "\n",
    "def all_ways_to_get_sample(jar_size, sample_size, sample_blues):\n",
    "    sum = 0\n",
    "    for i in range(1, 101):\n",
    "        sum += ways_to_get_sample(jar_size, i, sample_size, sample_blues)\n",
    "    return sum\n",
    "\n",
    "\n",
    "def confidence_came_from_jar_B(jar_size, jar_blues, sample_size, sample_blues):\n",
    "    return ways_to_get_sample(jar_size, jar_blues, sample_size, sample_blues) / all_ways_to_get_sample(jar_size, sample_size, sample_blues)\n",
    "\n",
    "print(confidence_came_from_jar_B(N, B, s, b))\n",
    "                           \n"
   ]
  },
  {
   "cell_type": "code",
   "execution_count": 82,
   "id": "f19c728d",
   "metadata": {},
   "outputs": [
    {
     "name": "stdout",
     "output_type": "stream",
     "text": [
      "0.8881600208203463\n"
     ]
    }
   ],
   "source": [
    "'''\n",
    "Given random sample b, r from N = 100,\n",
    "our confidence it came from jar where Min <= B <= Max:\n",
    "\n",
    "= (Ways to get sample-10 with 5 blues from jars in interval) / (Ways to get sample-10 with 5 blues from ALL jars)\n",
    "\n",
    "'''\n",
    "\n",
    "# Total marbles in jar.\n",
    "N = 100\n",
    "\n",
    "# Lower bound blues in jar\n",
    "L = 41\n",
    "\n",
    "# Upper bound blues in jar\n",
    "U = 59\n",
    "\n",
    "# Sample size.\n",
    "s = 40\n",
    "\n",
    "# Sample blues\n",
    "b = 20\n",
    "\n",
    "\n",
    "def interval_ways_to_get_sample(jar_size, jar_blues_min, jar_blues_max, sample_size, sample_blues):\n",
    "    sum = 0\n",
    "    for i in range(jar_blues_min, jar_blues_max + 1):\n",
    "        sum += ways_to_get_sample(jar_size, i, sample_size, sample_blues)\n",
    "    return sum\n",
    "        \n",
    "\n",
    "\n",
    "def confidence_came_from_jar_interval(jar_size, jar_blues_min, jar_blues_max, sample_size, sample_blues):\n",
    "    num = interval_ways_to_get_sample(jar_size, jar_blues_min, jar_blues_max, sample_size, sample_blues)\n",
    "    den = all_ways_to_get_sample(jar_size, sample_size, sample_blues)\n",
    "    return num / den\n",
    "\n",
    "print(confidence_came_from_jar_interval(N, L, U, s, b))"
   ]
  }
 ],
 "metadata": {
  "kernelspec": {
   "display_name": "Python 3 (ipykernel)",
   "language": "python",
   "name": "python3"
  },
  "language_info": {
   "codemirror_mode": {
    "name": "ipython",
    "version": 3
   },
   "file_extension": ".py",
   "mimetype": "text/x-python",
   "name": "python",
   "nbconvert_exporter": "python",
   "pygments_lexer": "ipython3",
   "version": "3.9.12"
  }
 },
 "nbformat": 4,
 "nbformat_minor": 5
}
