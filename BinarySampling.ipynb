{
  "cells": [
    {
      "cell_type": "markdown",
      "metadata": {
        "id": "view-in-github",
        "colab_type": "text"
      },
      "source": [
        "<a href=\"https://colab.research.google.com/github/harveydogg/notebooks/blob/main/BinarySampling.ipynb\" target=\"_parent\"><img src=\"https://colab.research.google.com/assets/colab-badge.svg\" alt=\"Open In Colab\"/></a>"
      ]
    },
    {
      "cell_type": "markdown",
      "id": "4958bf5e",
      "metadata": {
        "id": "4958bf5e"
      },
      "source": [
        "#### Walkthrough: Binary sampling from small populations\n",
        "Version: Oct-25-2022<br>\n",
        "Author: Justin Harvey"
      ]
    },
    {
      "cell_type": "markdown",
      "id": "1200bc83",
      "metadata": {
        "id": "1200bc83"
      },
      "source": [
        "# Background\n",
        "\n",
        "This analysis was motivated by a specific practical problem. We begin by explaining what this analysis is <i>for</i>, and why it was deemed <i>necessary</i>.\n",
        "\n",
        "<u>What For</u>:<br>\n",
        "Suppose we have a jar known to contain a thousand marbles, each red or blue, and would like to know their proportion. However, for practical reasons we are unable to examine all of them, so we need to select a random sample and use this to estimate. Moreover — again, for practical reasons — our goal is to examine as few marbles as possible, while still achieving an estimate we deem adequate. (Note: The original problem context was software evaluation, but marbles are easier to visualize.)\n",
        "\n",
        "Naturally there will be a trade-off between \"as few as possible\" and \"adequate estimate.\" And depending on the actual context, the way these goals are balanced may involve qualitative considerations best handled on a case-by-case basis. So our aim here is not final analysis; we merely seek to quantify that trade-off. \n",
        "\n",
        "<u>Why Necessary</u>:<br>\n",
        "At first glance, our marble problem sounds like a standard Stats 101 example. But it has two features that, together, make it non-standard:\n",
        "\n",
        "1. Sample selection is done without replacement.\n",
        "2. The population $(N = 1,000)$ is small.\n",
        "\n",
        "Mathematically our problem is most reminiscent of the binomial distribution, which characterizes repeat trials of an experiment also having exactly two possible outcomes. (For example, flipping a coin multiple times.) However, in binomial distributions the trials are <i>independent</i>, meaning the probabilities of the two outcomes remain constant from one trial to the next. Our problem does not have that feature. As we draw our sample, each individual is removed from the population, which means that each successive selection is drawn from a slightly altered population. (Think poker hands: the deck composition changes as each card is dealt.)\n",
        "\n",
        "Of course, in practice this feature of the binomial distribution does not prevent its widespread applicablity to situations involving random sampling. (For example, opinion polls.) Provided the population is enormous relative to the sample, even the first and final selections can be treated as coming from the \"same\" population. (For reference: <a href=\"https://www.janda.org/c10/Lectures/topic05/GallupFAQ.htm#size\" target=\"_blank\">Gallup polls</a> typically sample 1,000 from a population of 187 million.) And given the mathematical cleanliness of the binomial distribution, this simplifying assumption is usually desirable.\n",
        "\n",
        "But this is where (2) comes in. If the population is only, say, between a few hundred and a few thousand, then one might need to sample between 20% and 50% of the population to achieve a satisfactory estimate. In such cases, clearly we can't just assume the composition of the population stays constant throughout the process of selection. So we can't use the binomial distribution as an approximation. (Well, perhaps we can? But if so, providing a <i>proof</i> that we can would be more challenging than just doing the exact calculations. So for us it wouldn't be a <i>simplifying</i> assumption.)"
      ]
    },
    {
      "cell_type": "markdown",
      "id": "4a273a38",
      "metadata": {
        "id": "4a273a38"
      },
      "source": [
        "# Scope and Strategy\n",
        "\n",
        "Although we shall stick to our marbles, the following analysis and algorithms can be applied to a wide range of cases. However, there is one crucial restriction:\n",
        "\n",
        "- <i>The variable must be binary.</i>\n",
        "\n",
        "For example, our variable is color and it has two possible values: every marble in the population is either red or blue, but not both. Of course, our analysis could be extended to categorical variables having more than two values, provided the number of categories is finite. But we do not attempt that extension here; all formulas and algorithms apply exlusively to the case of binary variables.\n",
        "\n",
        "We should also note that, although we motivated this analysis by citing small population size, this is not a requirement. In fact, no matter how large the population, our combinatorial approach produces the exact calculations for which the binomial distribution provides approximation. The downside of all that brute force counting is unscalability. The $\\Theta$ function (our main result) computes in seconds on a 2020 MacBook for N = 1,000; in minutes for N = 2,500; in hours for N = 10,000.\n",
        "\n",
        "We proceed in two steps. In Part 1, we assume we already know the composition of the jar (i.e. population) and use this to calculate the probability of collecting various random samples. This foundation will help us tackle our motivating problem in Part 2, where we estimate the (unknown) composition of the jar, based on a random sample we have already collected."
      ]
    },
    {
      "cell_type": "markdown",
      "id": "3bfda35c",
      "metadata": {
        "id": "3bfda35c"
      },
      "source": [
        "###### Note: If you are executing any cells in this notebook, execute all of them and do so in order."
      ]
    },
    {
      "cell_type": "code",
      "execution_count": null,
      "id": "3afd01f2",
      "metadata": {
        "id": "3afd01f2"
      },
      "outputs": [],
      "source": [
        "import math\n",
        "\n",
        "'''\n",
        "Prior to Python 3.8 the math libary did not include an \"n-choose-k\" function.\n",
        "Since we shall rely heavily on this function, for backwards compatibility we here\n",
        "define it manually rather than using \"math.comb(n, k)\" from Python 3.8.\n",
        "\n",
        "Note: As of this writing, the Colab platform by Google is still using Python 3.7.\n",
        "'''\n",
        "\n",
        "def choose(n, k):\n",
        "    '''\n",
        "    The standard mathemetical function, nCk, standardly read as \"n-choose-k\"\n",
        "    and mathematically defined as nCk = n! / (n-k)!k!.\n",
        "    '''\n",
        "    if n < k:\n",
        "        return 0\n",
        "    else:\n",
        "        return math.factorial(n) // (math.factorial(n - k) * math.factorial(k)) "
      ]
    },
    {
      "cell_type": "code",
      "execution_count": null,
      "id": "8ff3da9d",
      "metadata": {
        "scrolled": true,
        "id": "8ff3da9d",
        "outputId": "6e235a6a-3fa5-4a02-af53-b7cc9b891a91"
      },
      "outputs": [
        {
          "name": "stdout",
          "output_type": "stream",
          "text": [
            "Passed = 10000\n",
            "Failed = 0\n"
          ]
        }
      ],
      "source": [
        "# Quick check to confirm 'choose(n,k)' returns same values as 'math.comb(n,k)' for all n,k on interval [0,99]\n",
        "\n",
        "# Note: Running this cell will throw name error for Python versions < 3.8. This is fine.\n",
        "\n",
        "passed = 0\n",
        "failed = 0\n",
        "\n",
        "for n in range(100):\n",
        "    for k in range(100):\n",
        "        if choose(n, k) != math.comb(n, k):\n",
        "            failed += 1\n",
        "        else:\n",
        "            passed += 1\n",
        "\n",
        "print(\"Passed =\", passed)\n",
        "print(\"Failed =\", failed)"
      ]
    },
    {
      "cell_type": "markdown",
      "id": "1927afe4",
      "metadata": {
        "id": "1927afe4"
      },
      "source": [
        "# Part 1: Calculating probabilities of samples from known jars\n",
        "\n",
        "To begin, let us stipulate two definitions that will simplify our discussion. We call a jar of given size and composition a <i>specific jar</i>, and a sample of given size and composition a <i>specific sample</i>. For example, a jar containing 100 marbles, of which 75 are blue and 25 are red, is a specific jar. Likewise, a sample containing 10 marbles, of which 6 are blue and 4 are red, is a specific sample.\n",
        "\n",
        "Now suppose we wish determine the probability of getting a specific sample from a specific jar — assuming, as we shall always do, that the sample is randomly selected. To determine this, we need to count the number of ways of getting the specific sample from the specific jar, and divide by the total number of ways of getting all samples of that size from the specific jar. In other words, if we define:<br><br>\n",
        "\n",
        "<div style=\"padding-left: 50px;\">\n",
        "    $ N := $ total marbles in jar <br>\n",
        "    $ B := $ blues in jar <br>\n",
        "    $ R := $ reds in jar <br>\n",
        "    $ s := $ sample size <br>\n",
        "    $ b := $ blues in sample <br>\n",
        "    $ r := $ reds in sample <br>\n",
        "</div>\n",
        "\n",
        "then the probability we seek can be calculated by:\n",
        "\n",
        "$$ \\large \\frac{ {B \\choose b} {R \\choose r} }{N \\choose s} $$\n",
        "\n",
        "where, recall:\n",
        "\n",
        "$$ {n \\choose k} = \\frac{n!}{(n-k)! \\cdot k!} $$\n",
        "\n",
        "yields the number of possible ways to select $ k $ items from $ n $ items — standardly read, \"n choose k.\" This formulation has the virtue of making the procedure transparent. However, notice that it contains redundancies, since clearly $ N = B + R $ and $ s = b + r $. Thus, we can substitute $ R = N - B $ and $ r = s - b $ to produce a more efficient formulation of the desired probability, which for now we represent as a function of $b$ (i.e., treating $N$, $B$, and $s$ as givens):\n",
        "\n",
        "$$ f(b) = \\large \\frac{ {B \\choose b} {N - B \\choose s - b} }{N \\choose s} $$\n",
        "\n",
        "Interestingly, we can observe that an alternative (but mathematically equivalent) way of calculating $f$'s denominator would be:\n",
        "\n",
        "$$ \\sum_{b=0}^{s} \\left[ {B \\choose b} {N - B \\choose s - b} \\right] $$\n",
        "\n",
        "Although this representation looks more cumbersome, notice the summand is just $f$'s numerator. In other words, abbreviating $f$'s numerator as $\\phi(b)$, we also have:\n",
        "\n",
        "$$ f(b) = \\frac{\\phi(b)}{\\sum_{b=0}^{s}\\phi(b)} $$\n",
        "\n",
        "Here, a vernacular translation might help make the formulation intuitive. \"Count the number of ways to get the specific sample, and then divide by the sum: [ways to get a sample with zero blues] + [ways to get a sample with 1 blue] + [ways to get a sample with 2 blues] + ... + [ways to get a sample with all blues].\" <i>(Again, here we are treating $N$, $B$, and $s$ as fixed.)</i>\n",
        "\n",
        "\n",
        "###### Code for these functions:"
      ]
    },
    {
      "cell_type": "code",
      "execution_count": null,
      "id": "f52047c6",
      "metadata": {
        "id": "f52047c6"
      },
      "outputs": [],
      "source": [
        "def ways_to_get_specific_sample_from_specific_jar(jar_size, jar_blues, sample_size, sample_blues):\n",
        "    '''\n",
        "    This is our phi-function.\n",
        "    In other words, the numerator of f.\n",
        "    '''\n",
        "    return choose(jar_blues, sample_blues) * choose(jar_size - jar_blues, sample_size - sample_blues)"
      ]
    },
    {
      "cell_type": "code",
      "execution_count": null,
      "id": "3be7d9a5",
      "metadata": {
        "id": "3be7d9a5"
      },
      "outputs": [],
      "source": [
        "def ways_to_get_all_samples_of_given_size_from_specific_jar(jar_size, jar_blues, sample_size):\n",
        "    '''\n",
        "    This is the denominator of f.\n",
        "    It sums our phi-function, over all possible values of b.\n",
        "    \n",
        "    Note: This is mathematically equivalent to choose(jar_size, sample_size).\n",
        "    But for explanatory purposes that will become clear, we prefer this formulation.\n",
        "    '''\n",
        "    tally = 0\n",
        "    for b in range(sample_size + 1):\n",
        "        tally += ways_to_get_specific_sample_from_specific_jar(jar_size, jar_blues, sample_size, b)\n",
        "    return tally    "
      ]
    },
    {
      "cell_type": "code",
      "execution_count": null,
      "id": "d9d40ac9",
      "metadata": {
        "id": "d9d40ac9"
      },
      "outputs": [],
      "source": [
        "def probability_of_getting_specific_sample_from_specific_jar(jar_size, jar_blues, sample_size, sample_blues):\n",
        "    '''\n",
        "    This is our f.\n",
        "    It just puts the numerator and denominator in their places.\n",
        "    '''\n",
        "    p = (\n",
        "        ways_to_get_specific_sample_from_specific_jar(jar_size, jar_blues, sample_size, sample_blues)\n",
        "        /\n",
        "        ways_to_get_all_samples_of_given_size_from_specific_jar(jar_size, jar_blues, sample_size)\n",
        "    )\n",
        "    return p    "
      ]
    },
    {
      "cell_type": "markdown",
      "id": "46c48e66",
      "metadata": {
        "id": "46c48e66"
      },
      "source": [
        "###### Example Calculation 1"
      ]
    },
    {
      "cell_type": "code",
      "execution_count": null,
      "id": "31bc388f",
      "metadata": {
        "id": "31bc388f",
        "outputId": "1cb14c22-c73e-4b3b-86a8-d0da22062d5d"
      },
      "outputs": [
        {
          "name": "stdout",
          "output_type": "stream",
          "text": [
            "Given a jar with 100 marbles of which 75 are blue and 25 are red, if you randomly select 10 marbles, the probability that exactly 6 of them will be blue is 0.14714920688794267\n"
          ]
        }
      ],
      "source": [
        "# Calculate probability of getting exactly 6 blues\n",
        "# in random sample of 10 marbles\n",
        "# from jar of 100 marbles with 75 blues\n",
        "\n",
        "# Given knowns\n",
        "N = 100\n",
        "B = 75\n",
        "s = 10\n",
        "\n",
        "# Thing whose probability we're calculating\n",
        "b = 6\n",
        "\n",
        "solution = probability_of_getting_specific_sample_from_specific_jar(N, B, s, b)\n",
        "\n",
        "print(\"Given a jar with\", N, \"marbles of which\", B, \"are blue and\", N-B, \"are red, \"\n",
        "      \"if you randomly select\", s, \"marbles, the probability that exactly\", b,\n",
        "      \"of them will be blue is\", solution)"
      ]
    },
    {
      "cell_type": "markdown",
      "id": "33a2eb55",
      "metadata": {
        "id": "33a2eb55"
      },
      "source": [
        "# Part 2: Calculating probabilities of jars from known samples\n",
        "\n",
        "Now we need to reverse our perspective. In the previous section, we considered the scenario in which we knew the composition of the source, from which we calculated the probability that a future random sample would have a particular composition. In this section, we consider the scenario in which we have already obtained a sample — so we know <i>its</i> composition — but we don't know the composition of the source from which it was taken. In short, we need to determine the probability <i>that a specific sample came from a specific jar</i>.\n",
        "\n",
        "To fully appreciate the symmetry, note that in the previous section we envisioned:\n",
        "- knowing $N$, $s$, $B$\n",
        "- using them to determine the probability of <u>getting</u> a sample with $b$ blues\n",
        "\n",
        "But now we are envisioning:\n",
        "- knowing $N$, $s$, $b$\n",
        "- using them to determine the probability that the sample <u>came from</u> a jar with $B$ blues\n",
        "\n",
        "To calculate this, we need to count the number of ways of getting the specific sample from the specific jar, and then divide by the total number of ways of getting that specific sample from all possible jars (of that size). In other words, using placeholder $\\psi(B)$ for the numerator, we need a function having the form:\n",
        "\n",
        "$$ g(B) = \\frac{\\psi(B)}{\\sum_{B=0}^{N}\\psi(B)} $$\n",
        "\n",
        "So then, what is $\\psi(B)$? Well, the number of ways of getting a specific sample from a specific jar is:\n",
        "\n",
        "$$ \\large \\frac{ {B \\choose b} {N - B \\choose s - b} }{N \\choose s} $$\n",
        "\n",
        "Look familiar? This formula is identical to our $\\phi(b)$ from the previous section. There's no sleight of hand happening here — $\\phi$ and $\\psi$ are the \"same\" function; the only difference is which inputs we conceive as fixed and which as variable. (We use scarequotes out of an abundance of philosophical caution.) Symbolically, we might convey this formulaic coincidence as:\n",
        "\n",
        "$$ \\psi_{N,s,b}(B) = \\large \\frac{ {B \\choose b} {N - B \\choose s - b} }{N \\choose s} \\normalsize = \\phi_{N,s,B}(b) $$\n",
        "\n",
        "Metaphysical concerns aside, $\\phi$ and $\\psi$ are clearly the same function from a computational perspective. Thus we have already defined $g$'s numerator in previous code, so now we just need code for its denominator:\n"
      ]
    },
    {
      "cell_type": "code",
      "execution_count": null,
      "id": "0b8945cf",
      "metadata": {
        "id": "0b8945cf"
      },
      "outputs": [],
      "source": [
        "def ways_to_get_specific_sample_from_all_jars_of_given_size(jar_size, sample_size, sample_blues):\n",
        "    '''\n",
        "    This is the denominator of g.\n",
        "    It sums our phi-function, over all possible values of B.\n",
        "    \n",
        "    Note: Comparing this with f's denominator function above,\n",
        "    the only difference is that now we are summing over all\n",
        "    possible values of B=jar_blues instead of b=sample_blues.\n",
        "    \n",
        "    '''\n",
        "    tally = 0\n",
        "    for B in range(jar_size + 1):\n",
        "        tally += ways_to_get_specific_sample_from_specific_jar(jar_size, B, sample_size, sample_blues)\n",
        "    return tally\n"
      ]
    },
    {
      "cell_type": "markdown",
      "id": "a44ba7eb",
      "metadata": {
        "id": "a44ba7eb"
      },
      "source": [
        "So our probability function $g(B)$ is:"
      ]
    },
    {
      "cell_type": "code",
      "execution_count": null,
      "id": "a2963b83",
      "metadata": {
        "id": "a2963b83"
      },
      "outputs": [],
      "source": [
        "def probability_that_specific_sample_came_from_specific_jar(jar_size, jar_blues, sample_size, sample_blues):\n",
        "    '''\n",
        "    This is our g.\n",
        "    It just puts the numerator and denominator in their places.\n",
        "    '''\n",
        "    p = (\n",
        "        ways_to_get_specific_sample_from_specific_jar(jar_size, jar_blues, sample_size, sample_blues)\n",
        "        /\n",
        "        ways_to_get_specific_sample_from_all_jars_of_given_size(jar_size, sample_size, sample_blues)\n",
        "    )\n",
        "    return p"
      ]
    },
    {
      "cell_type": "markdown",
      "id": "25e9275a",
      "metadata": {
        "id": "25e9275a"
      },
      "source": [
        "Here is an example calculation, using the same input values as Example Calculation 1:\n",
        "\n",
        "###### Example Calculation 2.a"
      ]
    },
    {
      "cell_type": "code",
      "execution_count": null,
      "id": "dccd6904",
      "metadata": {
        "id": "dccd6904",
        "outputId": "6bc9a651-9349-461f-d839-92905c1fa3c2"
      },
      "outputs": [
        {
          "name": "stdout",
          "output_type": "stream",
          "text": [
            "Given a jar with 100 marbles, if you randomly select 10 of which 6 are blue and 4 are red, then the probability that the jar originally contained exactly 75 blues is 0.016026151245221477\n"
          ]
        }
      ],
      "source": [
        "# Given random sample of 10 from jar of 100 marbles,\n",
        "# if the sample contains exactly 6 blues,\n",
        "# calculate probability it came from jar with 75 blues.\n",
        "\n",
        "# Given knowns\n",
        "s = 10\n",
        "N = 100\n",
        "b = 6\n",
        "\n",
        "# Thing whose probability we're calculating\n",
        "B = 75\n",
        "\n",
        "solution = probability_that_specific_sample_came_from_specific_jar(N, B, s, b)\n",
        "\n",
        "print(\"Given a jar with\", N, \"marbles, if you randomly select\", s,\n",
        "     \"of which\", b, \"are blue and\", s-b,\n",
        "      \"are red, then the probability that the jar originally contained exactly\", B,\n",
        "     \"blues is\", solution)\n"
      ]
    },
    {
      "cell_type": "markdown",
      "id": "de3de571",
      "metadata": {
        "id": "de3de571"
      },
      "source": [
        "Of course, in practice we will rarely be interested in the probability that the jar contained some <i>exact</i> number of blues. Instead, we will typically be interested in the probability that its number of blues was in some <i>interval</i> $[L, U]$, denoted by lower and upper bounds $L$ and $U$. Let us call this corresponding function $h$, which will be:\n",
        "\n",
        "$$ h(B)_{[L,U]} = \\frac{\\sum_{B=L}^{U}\\psi(B)}{\\sum_{B=0}^{N}\\psi(B)} $$\n",
        "\n",
        "Since we have already defined $h$'s denominator in code above, we need only define its numerator:"
      ]
    },
    {
      "cell_type": "code",
      "execution_count": null,
      "id": "954860d5",
      "metadata": {
        "id": "954860d5"
      },
      "outputs": [],
      "source": [
        "def ways_to_get_specific_sample_from_interval_of_jars(jar_size, lower, upper, sample_size, sample_blues):\n",
        "    '''\n",
        "    This is the numerator of h.\n",
        "    It sums our phi-function over values of B on the interval [L, U].\n",
        "    '''\n",
        "    tally = 0\n",
        "    for B in range(lower, upper + 1):\n",
        "        tally += ways_to_get_specific_sample_from_specific_jar(jar_size, B, sample_size, sample_blues)\n",
        "    return tally"
      ]
    },
    {
      "cell_type": "markdown",
      "id": "b3fbce11",
      "metadata": {
        "id": "b3fbce11"
      },
      "source": [
        "So our probability function $h(B)_{[L,U]}$ is:"
      ]
    },
    {
      "cell_type": "code",
      "execution_count": null,
      "id": "5b418337",
      "metadata": {
        "id": "5b418337"
      },
      "outputs": [],
      "source": [
        "def probability_that_specific_sample_came_from_interval_of_jars(jar_size, lower, upper, sample_size, sample_blues):\n",
        "    '''\n",
        "    insert docstring\n",
        "    '''\n",
        "    p = (\n",
        "        ways_to_get_specific_sample_from_interval_of_jars(jar_size, lower, upper, sample_size, sample_blues)\n",
        "        /\n",
        "        ways_to_get_specific_sample_from_all_jars_of_given_size(jar_size, sample_size, sample_blues)\n",
        "    )\n",
        "    return p"
      ]
    },
    {
      "cell_type": "markdown",
      "id": "0d075437",
      "metadata": {
        "id": "0d075437"
      },
      "source": [
        "Here is an example calculation using the same input values as Example 2.a, but replacing the specific value $B=75$ with the interval $B\\in[73, 77]$:\n",
        "\n",
        "###### Example Calculation 2.b"
      ]
    },
    {
      "cell_type": "code",
      "execution_count": null,
      "id": "ffa0f6a6",
      "metadata": {
        "id": "ffa0f6a6",
        "outputId": "02c6a2a3-717f-4382-fcc2-bab9e57f09c6"
      },
      "outputs": [
        {
          "name": "stdout",
          "output_type": "stream",
          "text": [
            "Given a jar with 100 marbles, if you randomly select 10 of which 6 are blue and 4 are red, then the probability that the jar originally contained between 73 and 77 blues is 0.08007262572574683\n"
          ]
        }
      ],
      "source": [
        "# Given random sample of 10 from jar of 100,\n",
        "# if the sample contains exactly 6 blues,\n",
        "# calculate probability it came from jar with 73-77 blues.\n",
        "\n",
        "# Given knowns\n",
        "s = 10\n",
        "N = 100\n",
        "b = 6\n",
        "\n",
        "# Thing whose probability we're calculating\n",
        "L = 73\n",
        "U = 77\n",
        "\n",
        "solution = probability_that_specific_sample_came_from_interval_of_jars(N, L, U, s, b)\n",
        "\n",
        "print(\"Given a jar with\", N, \"marbles, if you randomly select\", s,\n",
        "     \"of which\", b, \"are blue and\", s-b,\n",
        "      \"are red, then the probability that the jar originally contained between\", L,\n",
        "     \"and\", U, \"blues is\", solution)"
      ]
    },
    {
      "cell_type": "markdown",
      "id": "c83759ad",
      "metadata": {
        "id": "c83759ad"
      },
      "source": [
        "Now up to this point, we have been setting our inputs $B,L,U$ arbitrarily. In practice, however, after we have drawn a random sample, the interval whose probability we'll be interested in will have the form $B^* \\pm \\Delta$, where the prudent choice for $B^*$ will be dictated rather trivially by the actual number of blues in the sample.\n",
        "\n",
        "For example, supposing we got a random sample of 10 from a jar of 100, if our sample contained 6 blues and 4 reds, then the obvious \"best guess\" for $B$'s true value would be 60. In other words, the natural choice for $B^*$ will be determined by:\n",
        "\n",
        "$$ B^* = b \\cdot \\left( \\frac{N}{s} \\right) $$\n",
        "\n",
        "In the code, we use 'B_guess' or 'Bg' instead of $B^*$:"
      ]
    },
    {
      "cell_type": "code",
      "execution_count": null,
      "id": "d2a6531c",
      "metadata": {
        "id": "d2a6531c"
      },
      "outputs": [],
      "source": [
        "def B_guess(jar_size, sample_size, sample_blues):\n",
        "    '''\n",
        "    The no-brainer guess for B, based on known value of b.\n",
        "    We will use this 'Bg' as the center of our interval.\n",
        "    '''\n",
        "    return int(sample_blues * (jar_size / sample_size))"
      ]
    },
    {
      "cell_type": "markdown",
      "id": "5b74fcb0",
      "metadata": {
        "id": "5b74fcb0"
      },
      "source": [
        "Finally, we just have one remaining issue: How shall we choose $\\Delta$'s value? In practice, it depends. Sometimes we may be interested in some pre-specified interval. More often, however, we will be interested in finding the smallest $\\Delta$ value that satisfies some pre-established probability threshold $C$, which will typically be 90%, 95%, or 99%. Computationally, we can achieve this by initializing $\\Delta$ = 1 and incrementing until we reach a value of $\\Delta$ where the probability satisfies our desired threshold.\n",
        "\n",
        "Mathematically, we can clarify this by defining one last function $\\Theta$:\n",
        "\n",
        "$$ \\Theta_{N,s}(b,C) = (B^*,\\Delta^*) $$\n",
        "\n",
        "where:\n",
        "\n",
        "$$ B^* = b \\cdot \\left( \\frac{N}{s} \\right) $$\n",
        "\n",
        "and:\n",
        "\n",
        "$$ \\Delta^* = \\min \\{ \\Delta : h(B)_{[B^*-\\Delta,B^*+\\Delta]} \\ge C \\} $$\n",
        "\n",
        "Here is one possible implementation of $\\Theta$:"
      ]
    },
    {
      "cell_type": "code",
      "execution_count": null,
      "id": "ec4b9de5",
      "metadata": {
        "id": "ec4b9de5"
      },
      "outputs": [],
      "source": [
        "def theta(jar_size, sample_size, sample_blues, confidence):\n",
        "    '''\n",
        "    insert docstring'''\n",
        "    \n",
        "    Bg = B_guess(jar_size, sample_size, sample_blues)\n",
        "    \n",
        "    delta = 1\n",
        "    p = probability_that_specific_sample_came_from_interval_of_jars(jar_size, Bg - delta, Bg + delta, sample_size, sample_blues)\n",
        "       \n",
        "    while p < confidence:\n",
        "        delta +=1\n",
        "        p = probability_that_specific_sample_came_from_interval_of_jars(jar_size, Bg - delta, Bg + delta, sample_size, sample_blues)\n",
        "    else:\n",
        "        Dg = delta\n",
        "        \n",
        "    return (Bg, Dg)"
      ]
    },
    {
      "cell_type": "markdown",
      "id": "0241d517",
      "metadata": {
        "id": "0241d517"
      },
      "source": [
        "###### Example Calculation 2.c"
      ]
    },
    {
      "cell_type": "code",
      "execution_count": null,
      "id": "029a1157",
      "metadata": {
        "id": "029a1157",
        "outputId": "d71f649e-b6c6-47ca-94e2-6549974a4dfd"
      },
      "outputs": [
        {
          "name": "stdout",
          "output_type": "stream",
          "text": [
            "Given a jar with 100 marbles, if you randomly select 10 of which 6 are blue and 4 are red, then there is a 0.95 probability that the jar originally contained between 35 and 85 blues.\n"
          ]
        }
      ],
      "source": [
        "# Given random sample of 10 from jar of 100,\n",
        "# if the sample contains exactly 6 blues,\n",
        "# calculate (Bg, Dg) such that:\n",
        "# there is 95% probability the number of jar blues\n",
        "# was on interval Bg +/- Dg.\n",
        "\n",
        "# Given knowns\n",
        "N = 100\n",
        "s = 10\n",
        "b = 6\n",
        "C = 0.95\n",
        "\n",
        "pair = theta(N, s, b, C)\n",
        "\n",
        "minimum = pair[0] - pair[1]\n",
        "maximum = pair[0] + pair[1]\n",
        "\n",
        "print(\"Given a jar with\", N, \"marbles, if you randomly select\", s,\n",
        "     \"of which\", b, \"are blue and\", s-b,\n",
        "      \"are red, then there is a\", C, \"probability that the jar originally contained between\", minimum,\n",
        "     \"and\", maximum, \"blues.\")"
      ]
    },
    {
      "cell_type": "markdown",
      "id": "e79ce71c",
      "metadata": {
        "id": "e79ce71c"
      },
      "source": [
        "###### Your sandbox for Theta calculations"
      ]
    },
    {
      "cell_type": "code",
      "execution_count": null,
      "id": "622f06cb",
      "metadata": {
        "id": "622f06cb",
        "outputId": "a0e9b0cb-5481-4ca5-da19-d211bee86f48"
      },
      "outputs": [
        {
          "name": "stdout",
          "output_type": "stream",
          "text": [
            "Given a jar with 1000 marbles, if you randomly select 100 of which 60 are blue and 40 are red, then there is a 0.95 probability that the jar originally contained between 510 and 690 blues.\n"
          ]
        }
      ],
      "source": [
        "# Replace values with your desired inputs\n",
        "N = 1000\n",
        "s = 100\n",
        "b = 60\n",
        "C = 0.95\n",
        "\n",
        "pair = theta(N, s, b, C)\n",
        "\n",
        "minimum = pair[0] - pair[1]\n",
        "maximum = pair[0] + pair[1]\n",
        "\n",
        "print(\"Given a jar with\", N, \"marbles, if you randomly select\", s,\n",
        "     \"of which\", b, \"are blue and\", s-b,\n",
        "      \"are red, then there is a\", C, \"probability that the jar originally contained between\", minimum,\n",
        "     \"and\", maximum, \"blues.\")"
      ]
    },
    {
      "cell_type": "code",
      "execution_count": null,
      "id": "5eb311e3",
      "metadata": {
        "id": "5eb311e3"
      },
      "outputs": [],
      "source": []
    }
  ],
  "metadata": {
    "kernelspec": {
      "display_name": "Python 3 (ipykernel)",
      "language": "python",
      "name": "python3"
    },
    "language_info": {
      "codemirror_mode": {
        "name": "ipython",
        "version": 3
      },
      "file_extension": ".py",
      "mimetype": "text/x-python",
      "name": "python",
      "nbconvert_exporter": "python",
      "pygments_lexer": "ipython3",
      "version": "3.9.12"
    },
    "colab": {
      "provenance": [],
      "include_colab_link": true
    }
  },
  "nbformat": 4,
  "nbformat_minor": 5
}